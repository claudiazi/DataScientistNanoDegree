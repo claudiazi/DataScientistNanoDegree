{
 "cells": [
  {
   "cell_type": "markdown",
   "source": [
    "### Why to have `set` and `get` ?\n",
    "- **you can hide the implementation from your user**. Perhaps, originally, a variable was coded as a list and later became a dictionary. With set and get methods, you could easily change how that variable gets accessed. Without set and get methods, you'd have to go to every place in the code that accessed the variable directly and change the code.\n",
    "- There are some drawbacks to accessing attributes directly versus writing a method for accessing attributes.\n",
    "    - e.g. Changing values via a method gives you more flexibility in the long-term. What if the units of measurement change, like if the store was originally meant to work in US dollars and now has to handle Euros?\n",
    "        - have to change it manually\n",
    "```python\n",
    "shirt_one.price = 10 # US dollars\n",
    "shirt_one.price = 8 # Euros\n",
    "```\n",
    "        - better way: use a method\n",
    "```python\n",
    "def change_price(self, new_price):\n",
    "              self.price = new_price * 0.81 # convert dollars to Euros\n",
    "shirt_one.change_price(10)\n",
    "    ```"
   ],
   "metadata": {
    "collapsed": false
   }
  },
  {
   "cell_type": "markdown",
   "source": [
    "### Magic Methods\n",
    "- Magic methods let you overwrite and customize default python behavior\n",
    "- `def __repr__` representation function: to output the characteristics of the class instance\n",
    "- `def __init__`initializes a new object\n",
    "- `__add__` (overwritee `+`)"
   ],
   "metadata": {
    "collapsed": false
   }
  },
  {
   "cell_type": "markdown",
   "source": [
    "### Inheritance\n",
    "- inherits all attributes and functions of the parent class\n",
    "- can also add new attributes and functions & overwrite the function"
   ],
   "metadata": {
    "collapsed": false
   }
  },
  {
   "cell_type": "markdown",
   "source": [
    "### Module\n",
    "- A module is a single `.py` file that contains a collection of functions, classes and global variables."
   ],
   "metadata": {
    "collapsed": false
   }
  },
  {
   "cell_type": "markdown",
   "source": [
    "### Package\n",
    "- A package always needs to have an `__init__.py` file even if the file is completely empty. The code inside the init\n",
    "file gets run whenever you import a package inside a Python program\n",
    "- `setup.py` is necessary for pip installing. `Pip` will automatically look for this file. This file contains information\n",
    "/ metadata about the package"
   ],
   "metadata": {
    "collapsed": false
   }
  },
  {
   "cell_type": "markdown",
   "source": [
    "### Upload the package to PyPi\n",
    "- files need to be added: `license.txt`, `setup.cfg`, `readme.md`\n",
    "- Process:\n",
    "    - 1. cd package directory\n",
    "    - 2. get prepared (new folders will be added (e.g. `dist`):\n",
    "    ```python\n",
    "       python setup.py sdist```\n",
    "    - 3. install twine package\n",
    "     ```python\n",
    "        pip install twine```\n",
    "    - 4. upload to pypi test repository\n",
    "     ```python\n",
    "        twine upload --repository-url https://test.pypi.org/öegacy/ dist/*\n",
    "        ```\n",
    "    - 5. test `install`\n",
    "     ```python\n",
    "        pip install --index-url https://test.pypi.org/simple/<package_name>\n",
    "        ```\n",
    "    - 6. upload to pypi regular repository\n",
    "       ```python\n",
    "        twine upload dist/*\n",
    "        ```\n",
    "    - 7. test again\n",
    "        ```python\n",
    "        pip uninstall <package name>\n",
    "        ```\n",
    "        ```python\n",
    "        pip install <package name>\n",
    "        ```\n",
    "\n",
    "\n"
   ],
   "metadata": {
    "collapsed": false
   }
  }
 ],
 "metadata": {
  "kernelspec": {
   "display_name": "Python 3",
   "language": "python",
   "name": "python3"
  },
  "language_info": {
   "codemirror_mode": {
    "name": "ipython",
    "version": 2
   },
   "file_extension": ".py",
   "mimetype": "text/x-python",
   "name": "python",
   "nbconvert_exporter": "python",
   "pygments_lexer": "ipython2",
   "version": "2.7.6"
  }
 },
 "nbformat": 4,
 "nbformat_minor": 0
}