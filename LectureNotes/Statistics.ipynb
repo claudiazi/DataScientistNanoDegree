{
 "cells": [
  {
   "cell_type": "markdown",
   "source": [
    "### Error type\n",
    "- **Type I error ($\\alpha$)**: rejecting the null hypothesis when it is actually true\n",
    "- **Type II error ($\\beta$)**: failing to reject the null hypothesis when it is actually false\n",
    "\n",
    "### p-value\n",
    "- If $H_0$ is true, the probability of obtaining the observed statistic or one more extreme in favor of the alternative\n",
    "hypothesis. aka: the conditional probability of your data that the null hypothesis is true.\n",
    "- If p-value is very small, it suggests it's less likely to observe our statistic from the null.\n",
    "\n",
    "### Statistical Power\n",
    "- Given a true mean (different from the null), the probability of rejecting the null hypothesis. / The probability that a hypothesis test will actually detect a particular true mean as different from the null.\n",
    "- Use the desired practical significance boundary to plan out the experiment --> by knowing how many observations that are needed in order to detect the desired effect to the desired level of reliability and see how long it would need to run the experiment and whether it is feasible.\n",
    "\n",
    "### Dummy Test (AA test)\n",
    "- An experiment run between equivalent groups (i.e. no experimental group)\n",
    "- Why?\n",
    "    - Check if an experiment is implemented correctly (help to expose errors in the randomization or assignment procedures ...)\n",
    "    - Collect information about metric's behaviors in order to scope out the full design. If historic data is not enough to predict the outcome of recorded metrics or allow for experiment duration to be computed, then a dummy test can be useful for getting baselines.\n",
    "- Downside: requires an investment of resources, especially time, only reasonable for companies with the large user basis\n",
    "- Can combine with A/B test --> A/A/B test:  A comparison between control groups can be used to learn about null-environment properties before making inferences on the effect of the experimental manipulation.\n",
    "\n",
    "### Non-Parametric Test\n",
    "- Why?\n",
    "    - Standard tests are not reliable: due to uncertainty about the true variability of a metric's distribution, a lack of data to assume normality, or wanting to do inference on a statistic that lacks a standard test\n",
    "    - Non-parametric test doesnt reply on many assumptions of the underlying population, and so can be used in a wider range of circumstances compared to standard tests\n",
    "    - can work as a second check on the experimental results\n",
    "- **Bootstrapping**: use the actually collected data to generate new samples (use *replacement*) without making assumptions about the original population distribution (i.e. treating the original data as the population)\n",
    "    - Use case: create a 95% confidence interval for the 90th percentile from a dataset of 5000 data points (in order to reduce the worst cases for the website load times)\n",
    "- **Permutation Tests**: a resampling-type test used to compare the values on an outcome variable between two or more groups.\n",
    "- **Rank-Sum Test (Mann-Whitney)**:\n",
    "    - draw one value at random from the populations behind each group:\n",
    "        - $H_0$: There is an equal chance that the larger value is from the first group as the second group; for randomly selected values X and Y from two populations, the porbability of X being greater than Y is equal to the probability of Y being greater than X\n",
    "        - $H_1$: There is an unequal chance\n",
    "        - scipy stats package: [`mannwhitneyu`](https://docs.scipy.org/doc/scipy/reference/generated/scipy.stats.mannwhitneyu.html)\n",
    "        - [Wikipedia](https://en.wikipedia.org/wiki/Mann%E2%80%93Whitney_U_test)\n",
    "\n",
    "- **Sign Test**: didnt really get it...\n",
    "\n",
    "### Analyzing multiple metrics\n",
    "- Use **Bonferroni correction** to correct the factor on the individual test error rate so that the overall error rate is at most the desired level.\n",
    "- $\\alpha_{ind} = \\alpha_{over} / n$\n"
   ],
   "metadata": {
    "collapsed": false,
    "pycharm": {
     "name": "#%% md\n"
    }
   }
  }
 ],
 "metadata": {
  "kernelspec": {
   "display_name": "Python 3",
   "language": "python",
   "name": "python3"
  },
  "language_info": {
   "codemirror_mode": {
    "name": "ipython",
    "version": 2
   },
   "file_extension": ".py",
   "mimetype": "text/x-python",
   "name": "python",
   "nbconvert_exporter": "python",
   "pygments_lexer": "ipython2",
   "version": "2.7.6"
  }
 },
 "nbformat": 4,
 "nbformat_minor": 0
}