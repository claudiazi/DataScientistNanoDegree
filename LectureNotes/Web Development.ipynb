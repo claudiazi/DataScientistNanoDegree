{
 "cells": [
  {
   "cell_type": "markdown",
   "source": [
    "### Front End\n",
    "- HTML: contents (i.e. text, images, videos, and forms)\n",
    "- CSS: style (i.e. color, layout, font styles)\n",
    "- Javascript: animations & interactivity (i.e. fade-ins, slideshows, pop-ups)"
   ],
   "metadata": {
    "collapsed": false
   }
  },
  {
   "cell_type": "markdown",
   "source": [
    "### Bootstrap\n",
    "- a library built on topf of CSS and Javascript\n",
    "- [Documentations](https://getbootstrap.com/docs/4.0/getting-started/introduction/#starter-template)"
   ],
   "metadata": {
    "collapsed": false
   }
  },
  {
   "cell_type": "markdown",
   "source": [
    "### JQuery\n",
    "- a framework to write JavaScript easier\n",
    "```javascript\n",
    " <script src=\"https://ajax.googleapis.com/ajax/libs/jquery/3.3.1/jquery.min.js\"></script>\n",
    " ```\n",
    "- [Documentations](https://api.jquery.com/)"
   ],
   "metadata": {
    "collapsed": false
   }
  },
  {
   "cell_type": "markdown",
   "source": [
    "### Plotly\n",
    "- a library to create charts, for both JavaScript and Python\n",
    "```javascript\n",
    "    <script src=\"https://cdn.plot.ly/plotly-latest.min.js\"></script> ```\n",
    "- [Documentations](https://plotly.com/javascript/getting-started/#plotlyjs-cdn)"
   ],
   "metadata": {
    "collapsed": false
   }
  },
  {
   "cell_type": "markdown",
   "source": [
    "### Back End\n",
    "- responsible for running the web app, the code controls the server and communicates with the databask\n",
    "- the server where the website files are stored (e.g. type in a website -> ask the server to send you the HTML, CSS, Javascript)\n",
    "- database\n",
    "- Backen language: PHP, Java, Ruby, Python..."
   ],
   "metadata": {
    "collapsed": false
   }
  },
  {
   "cell_type": "markdown",
   "source": [
    "### Flask\n",
    "- A web framework takes care of all the routing needed to organize a web page\n",
    "- written in Python\n",
    "- HTTP (hyper-text transfer protocol): defines a standard way of sending and receiving messages over the Internet\n",
    "- [Documentation1](https://flask.palletsprojects.com/en/1.1.x/)\n",
    "- [Documentation2](https://ains.co/blog/things-which-arent-magic-flask-part-1.html)"
   ],
   "metadata": {
    "collapsed": false
   }
  }
 ],
 "metadata": {
  "kernelspec": {
   "display_name": "Python 3",
   "language": "python",
   "name": "python3"
  },
  "language_info": {
   "codemirror_mode": {
    "name": "ipython",
    "version": 2
   },
   "file_extension": ".py",
   "mimetype": "text/x-python",
   "name": "python",
   "nbconvert_exporter": "python",
   "pygments_lexer": "ipython2",
   "version": "2.7.6"
  }
 },
 "nbformat": 4,
 "nbformat_minor": 0
}