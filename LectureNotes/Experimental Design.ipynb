{
 "cells": [
  {
   "cell_type": "markdown",
   "source": [
    "**Correlation** does not imply **Causation**"
   ],
   "metadata": {
    "collapsed": false
   }
  },
  {
   "cell_type": "markdown",
   "source": [
    "### Types of experiments\n",
    "- Between-subjects: control group vs experimental group (web-based: A/B test); One condition per participant\n",
    "- Within-subjects (aka repeated measures design): Many conditions per participant\n",
    "\n",
    "### Types of sampling\n",
    "- Simple random sampling: each individual in the population has an equal chance of being selected\n",
    "- Stratified random sampling: firstly divide the entire population into disjoint groups then take a simple random sample from each group\n",
    "\n",
    "### Measuring Outcomes\n",
    "- **User Funnel**: Path or steps taken by a user from the start of their experience to the desired destination state.\n",
    "- **Unit of Diversion**: Observational unit by which users are split into experimental groups.\n",
    "- **Evalation Metrics**: Features that provide an objective measure of the success of an experimental manipulation.\n",
    "- **Invariant Metrics**: Features that objectively check for equivalence between experimental groups.\n",
    "- **Confounding Variable**: Unaccounted-for variable that interacts with our variables of interest.\n",
    "\n",
    "### Pitfalls\n",
    "- Checking Validity:\n",
    "    - **Experimental Validity**: Degree to which your experiment actually accomplishes the conclusions you state.\n",
    "    - **Construct Validity**: Degree to which an experiment's objective metric results support the goals of the study.\n",
    "    - **Internal Validity**: Degree to which an experiment's claims of causality can be supported.\n",
    "    - **External Validity**: Degree to which an experiment's results can be generalized to cases outside the experiment.\n",
    "- Checking bias:\n",
    "    - **Experimental Bias**: Systematic errors that affect the interpretation of your results.\n",
    "    - **Sampling Bias**: Error stemming from observations not being representative of the population. Applying to both\n",
    "    non-experiments (e.g. survey) and experiments.\n",
    "    - **Novelty Bias**: Error stemming from change in participant behavior solely due to novel stimuli (e.g. the users\n",
    "    are not familiar with the new changes.)\n",
    "    - **Order Bias**: Errors stemming from condition order, whether they occur first (primary bias) or last (recency bias).\n",
    "    --> make sure that the order of conditions is balanced!"
   ],
   "metadata": {
    "collapsed": false,
    "pycharm": {
     "name": "#%% md\n"
    }
   }
  },
  {
   "cell_type": "markdown",
   "source": [
    "### SMART Menemonic\n",
    "- **S**pecific: Make sure the goals of your experiment are specific\n",
    "- **M**easurable: Outcomes must be measurable using objective metrics\n",
    "- **A**chievable: The steps taken for the experiment and the goals must be realistic\n",
    "- **R**elevant: The experiment needs to have purpose behind it\n",
    "- **T**imely: Results must be obtainable in a reasonable time frame\n",
    "- Meet the ethics\n",
    "\n"
   ],
   "metadata": {
    "collapsed": false
   }
  }
 ],
 "metadata": {
  "kernelspec": {
   "display_name": "Python 3",
   "language": "python",
   "name": "python3"
  },
  "language_info": {
   "codemirror_mode": {
    "name": "ipython",
    "version": 2
   },
   "file_extension": ".py",
   "mimetype": "text/x-python",
   "name": "python",
   "nbconvert_exporter": "python",
   "pygments_lexer": "ipython2",
   "version": "2.7.6"
  }
 },
 "nbformat": 4,
 "nbformat_minor": 0
}