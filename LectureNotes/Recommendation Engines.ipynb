{
 "cells": [
  {
   "cell_type": "markdown",
   "source": [
    "### Types of recommendations\n",
    "- Knowledge based: Knowledge about the item or user preferences are used to make a recommendation, pretty common when puchasing lucxury itemms\n",
    "    - e.g. recommend top movies based on which movies best met the customer's given filters\n",
    "- Collaborative Filtering Based: a method of making recommendations based on using the collaboration of user-item interactions.\n",
    "    - Model Based\n",
    "    - Neighborhood Based\n",
    "    - Examples:\n",
    "        - item ratings for each user\n",
    "        - item liked by user or not\n",
    "        - item used by user or not\n",
    "- Content Based: use information about items to find item similarities. Often the similarities are related to item descriptions or purpose.\n",
    "- Rank based recommendation: based on highest ratings, most purchase, most listened to, etc.\n",
    "\n",
    "### Similarity Metrics\n",
    "for neighborhood based collaborative filtering\n",
    "- Similaritt based (more close to 1, more similar)\n",
    "    - Pearson's correlation coefficient: a measure related to the strength and direction of a linear relationship; `np.corrcoef(x, y)`\n",
    "    - Spearman's correlation coefficient: a non-parametric statistic (based on the ranks of data, not the value of the original data)\n",
    "    - Kendall's Tau: also non-parametric statistic; a smaller variability when using larger sample sizes; however, Spearman is more computationally efficient\n",
    "- Distance based (more close to zero, more live in neighborhoods)\n",
    "    - Euclidean Distance: straight-line distance between two vectors; `np.linalg.norm(x-y)`\n",
    "    - Manhattan Distance: a 'manhattan block' distance from one vector to another\n",
    "\n",
    "### Business Cases for Recommendations\n",
    "- Relevance\n",
    "- Novelty\n",
    "- Serendipity (super surprising)\n",
    "- Increased Diversity"
   ],
   "metadata": {
    "collapsed": false
   }
  },
  {
   "cell_type": "markdown",
   "source": [
    "### Validation of recommendations\n",
    "- Online Testing (test after the deployment): metric (sales, higher engagement, clicks, conversion etc.) vs time\n",
    "- Offline Testing (split data into training and testing portions) --> can the recommendation engine on a subset of the data, then test how well the recommendation engine performs on a test set of data before deploying the model\n",
    " (ML method is good at it)\n",
    "- Feedbacks from user groups\n",
    "### Use SVD (singular value decomposition) to make recommendations\n",
    "- Table: v simple \n",
    "- Latent Factor: a feature that isn't actually observed in the data, but can be inferred based on the relationships that occur\n",
    "- Formula:\n",
    "\n",
    "    $A$ = $U\\Sigma V^T$\n",
    "- Dimensions: latent features - k, users - n, items - m\n",
    "- $U$: A matrix that provides how users feel about latent features. (u * k)\n",
    "- $\\Sigma$: A matrix that provides weights in descending order with how much each latent feature matters towards reconstructing the original uer-item matrix. (k * k) --> we might want to reduce the dimensions of the V according to the weight of each latent feature (**Sigma matrix**)\n",
    "- $V$: A matrix that provides how items relate to each latent feature. (m * k, $V^T$: k * m)\n",
    "- Reminder:\n",
    "    - The latent factors retrieved from SVD aren't actually labelled\n",
    "    - `np.linalg.svd(df)` is only valid if there is missing data in df!\n",
    "- How to solve SVD problem?\n",
    "    - Closed Form Solution (mathematical formula) --> solve the equation directly --> but wont work if there is missing data\n",
    "    - Iterative solution (using gradient descent) --> FunkSVD\n",
    "\n",
    "### FunkSVD\n",
    "- Formula:\n",
    "\n",
    "    $A$ = $V^T$\n",
    "    - $U$: gives information about how users are related to latent feature\n",
    "    - $V^T$: gives information about how much each movie is related to latent features\n",
    "- Contra: can't handle Cold Start Problem --> use content based / knowledge based\n",
    "\n",
    "### Recommendation Class\n",
    "- Have a fit method\n",
    "- Predict the rating for a given user-movie\n",
    "- Give a list of recommendations for a given user\n",
    "\n",
    "\n"
   ],
   "metadata": {
    "collapsed": false,
    "pycharm": {
     "name": "#%% md\n"
    }
   }
  }
 ],
 "metadata": {
  "kernelspec": {
   "display_name": "Python 3",
   "language": "python",
   "name": "python3"
  },
  "language_info": {
   "codemirror_mode": {
    "name": "ipython",
    "version": 2
   },
   "file_extension": ".py",
   "mimetype": "text/x-python",
   "name": "python",
   "nbconvert_exporter": "python",
   "pygments_lexer": "ipython2",
   "version": "2.7.6"
  }
 },
 "nbformat": 4,
 "nbformat_minor": 0
}