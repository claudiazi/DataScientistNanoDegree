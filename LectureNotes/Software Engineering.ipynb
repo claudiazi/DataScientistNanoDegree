{
 "cells": [
  {
   "cell_type": "code",
   "execution_count": null,
   "metadata": {
    "collapsed": true
   },
   "outputs": [],
   "source": []
  },
  {
   "cell_type": "markdown",
   "source": [
    "### Production code\n",
    "\n",
    "Code run on production servers\n",
    "\n",
    "- **Clean**: readable, simple, concise; crucial for collaboration and maintainability in software development\n",
    "- **modular**: the program is logically broken up into functions and modules; makes code more organized, efficient and reusable.\n",
    "- **Efficiency**: less run time & space in memory"
   ],
   "metadata": {
    "collapsed": false
   }
  },
  {
   "cell_type": "markdown",
   "source": [
    "### Refactoring Tips\n",
    "- Use Clear and descriptive var and function name\n",
    "- DRY (Dont Report Yourself)\n",
    "- Abstract out logic to improve readability\n",
    "- Minimize the number of entities (functions, classes. modules etc.)\n",
    "- Functions should do one thing (e.g. print and return should be splitted)\n",
    "- Arbitrary variable names can be more effective in certain functions\n",
    "- Zry tp ise fewer than three arguments per function\n",
    "\n",
    "### Improve efficiency of the code (depends on the case)\n",
    "- use vector operations (numpy & panda)\n",
    "- know your data structures and which methods are faster\n",
    "- GOOGLE!!!"
   ],
   "metadata": {
    "collapsed": false
   }
  },
  {
   "cell_type": "markdown",
   "source": [
    "### Documentation\n",
    "- Clarify complex parts of code, navigate code easily, describe use and purpose of components\n",
    "- Line level, function / module level (docstringsu kno), project level (readme.md)"
   ],
   "metadata": {
    "collapsed": false
   }
  },
  {
   "cell_type": "markdown",
   "source": [
    "### Use version control"
   ],
   "metadata": {
    "collapsed": false
   }
  },
  {
   "cell_type": "markdown",
   "source": [
    "### Testing\n",
    "- Test-driven Development: write tests before develop code to implement tasks; write down the edge cases that you want\n",
    " to test first\n",
    "- Unit Test: test that covers a small unit of code, usually a function; usually a single function independently from\n",
    "another the rest of the program\n",
    "- run `pytest` in the directory of the test file"
   ],
   "metadata": {
    "collapsed": false
   }
  },
  {
   "cell_type": "markdown",
   "source": [
    "### Logging\n",
    "- print out descriptive log msg to trace back the issue and understand what's happening in the code\n",
    "- Choose approriate level for logging:\n",
    "    - `Debug`: for anything that happens in the program\n",
    "    - `Error`: to record any error that occurs\n",
    "    - `Info`: to recod all actions that are user driven or system specific, such as regularly scheduled operations\n",
    "- Provide any useful information"
   ],
   "metadata": {
    "collapsed": false
   }
  },
  {
   "cell_type": "markdown",
   "source": [
    "### Code reviews\n",
    "- questions to think:\n",
    "    - clean & modular?\n",
    "    - efficient?\n",
    "    - documentation effective?\n",
    "    - well tested?\n",
    "    - logging effective?\n",
    "- explain issues and make suggestions\n",
    "- keep comments objective (avoid I & you)\n",
    "- provide code examples"
   ],
   "metadata": {
    "collapsed": false
   }
  }
 ],
 "metadata": {
  "kernelspec": {
   "display_name": "Python 3",
   "language": "python",
   "name": "python3"
  },
  "language_info": {
   "codemirror_mode": {
    "name": "ipython",
    "version": 2
   },
   "file_extension": ".py",
   "mimetype": "text/x-python",
   "name": "python",
   "nbconvert_exporter": "python",
   "pygments_lexer": "ipython2",
   "version": "2.7.6"
  }
 },
 "nbformat": 4,
 "nbformat_minor": 0
}