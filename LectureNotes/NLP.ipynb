{
 "cells": [
  {
   "cell_type": "markdown",
   "metadata": {
    "collapsed": true,
    "pycharm": {
     "name": "#%% md\n"
    }
   },
   "source": [
    "### Text Processing\n",
    "text = (*Jena went back to University.*)\n",
    "- Normalize (*jenna went back to university)\n",
    "    - case normalization\n",
    "    - punctuation removal\n",
    "    ```python\n",
    "       import re\n",
    "       text = re.sub(r\"[^a-zA-Z0-9]\", \" \", text.lower()) ```\n",
    "- Tokenize (*<\"jenna\", \"went\", \"back\", \"to\", \"university\"*>\n",
    "    - split into words\n",
    "    ```python\n",
    "       import nltk\n",
    "       nltk.download('punkt')\n",
    "       from nltk.tokenize import word_tokenize\n",
    "       words = word_tokenize(text) ```\n",
    "    - split into sentences\n",
    "    ```python\n",
    "       from nltk.tokenize import sent_tokenize\n",
    "       sentences = sent_tokenize(text) ```\n",
    "- Remove stop words (*<\"jenna\", \"went\", \"university\">*)\n",
    "    ```python\n",
    "       nltk.download('stopwords')\n",
    "       words = [w for w in words if w not in stopwords.words(\"english\")]```\n",
    "\n",
    "- Stem/ Lemmatize (*\"jenna\", \"go\", \"univers\"*>\n",
    "    - Stemming: *branches, branching, branched --> branch*\n",
    "    ```python\n",
    "       nltk.download('wordnet') # download for lemmatization\n",
    "       from nltk.stem.porter import PorterStemmer\n",
    "       stemmed = [PorterStemmer().stem(w) for w in words]```\n",
    "    - Lemmatization: *is, are, were --> be*\n",
    "    ```python\n",
    "       from nltk.stem.wordnet import WordNetLemmatizer\n",
    "       lemmed = [WordNetLemmatizer().lemmatize(w) for w in words]\n",
    "       lemmed = [WordNetLemmatizer().lemmatize(w, pos='v') for w in lemmed]```"
   ]
  },
  {
   "cell_type": "markdown",
   "source": [
    "### Methods of vectorizing text\n",
    "- Bag of Words: `CountVectorizer`\n",
    "- TF-IDF values: `TfidfTransformer`\n",
    "- Bag of Words AND TF-IDF values: `TfidfVectorizer`\n"
   ],
   "metadata": {
    "collapsed": false
   }
  }
 ],
 "metadata": {
  "kernelspec": {
   "display_name": "Python 3",
   "language": "python",
   "name": "python3"
  },
  "language_info": {
   "codemirror_mode": {
    "name": "ipython",
    "version": 2
   },
   "file_extension": ".py",
   "mimetype": "text/x-python",
   "name": "python",
   "nbconvert_exporter": "python",
   "pygments_lexer": "ipython2",
   "version": "2.7.6"
  }
 },
 "nbformat": 4,
 "nbformat_minor": 0
}