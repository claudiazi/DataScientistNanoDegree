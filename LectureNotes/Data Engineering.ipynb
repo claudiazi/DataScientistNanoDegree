{
 "cells": [
  {
   "cell_type": "markdown",
   "source": [
    "### Data Engineers\n",
    "- Gather all kinds of data from different sources, process and combine the data, then store the clean data in a easily accessible place\n",
    "- Automate this whole process via data pipelines (software program) -> build, test and maintain with code\n",
    "- Automate and scale ML algorithms as well"
   ],
   "metadata": {
    "collapsed": false
   }
  },
  {
   "cell_type": "markdown",
   "source": [
    "### API\n",
    "- API is an acronym that stands for application programming interface. API’s provide a standardized way for two\n",
    "applications to talk to each other. e.g. the server application where World Bank stores data and your Jupyter notebook"
   ],
   "metadata": {
    "collapsed": false
   }
  },
  {
   "cell_type": "markdown",
   "source": [
    "### What skills are important for a data scientist?\n",
    "- Know about data model: how to build a warehouse (star schema)\n",
    "    -> a notion of a fact table or dimension table; how they can be combined into building your data warehouse\n",
    "- Data backfilling: retroactively recompute metrics or history\n",
    "- Working knowledge of building out ETL pipelines"
   ],
   "metadata": {
    "collapsed": false
   }
  },
  {
   "cell_type": "markdown",
   "source": [
    "### Outliers\n",
    "- Tukey rules in 1D:\n",
    "    * Find the first quartile (ie .25 quantile)\n",
    "    * Find the third quartile (ie .75 quantile)\n",
    "    * Calculate the inter-quartile range (Q3 - Q1)\n",
    "    * Any value that is greater than Q3 + 1.5 * IQR is an outlier\n",
    "    * Any value that is less than Qe - 1.5 * IQR is an outlier"
   ],
   "metadata": {
    "collapsed": false
   }
  },
  {
   "cell_type": "markdown",
   "source": [
    "### Scaling\n",
    "- Rescaling/ Normalization: rescale the data to range [0, 1] but not change the distribution of the data\n",
    "    - $x_{normalized} = \\frac{x - x_{min}}{x_{max} - x_{min}}$\n",
    "- Standardization: mean = 0, std = 1"
   ],
   "metadata": {
    "collapsed": false
   }
  },
  {
   "cell_type": "markdown",
   "source": [
    "### Feature Engineering\n",
    "- Especially useful when the model i s underfitting\n",
    "- x, y --> $x^2$, $y^2$, $x^2y$ ..."
   ],
   "metadata": {
    "collapsed": false,
    "pycharm": {
     "name": "#%% md\n"
    }
   }
  }
 ],
 "metadata": {
  "kernelspec": {
   "display_name": "Python 3",
   "language": "python",
   "name": "python3"
  },
  "language_info": {
   "codemirror_mode": {
    "name": "ipython",
    "version": 2
   },
   "file_extension": ".py",
   "mimetype": "text/x-python",
   "name": "python",
   "nbconvert_exporter": "python",
   "pygments_lexer": "ipython2",
   "version": "2.7.6"
  }
 },
 "nbformat": 4,
 "nbformat_minor": 0
}